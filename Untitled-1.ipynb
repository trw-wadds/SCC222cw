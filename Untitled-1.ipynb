{
 "cells": [
  {
   "cell_type": "code",
   "execution_count": 1,
   "metadata": {},
   "outputs": [],
   "source": [
    "import numpy as np"
   ]
  },
  {
   "cell_type": "code",
   "execution_count": null,
   "metadata": {},
   "outputs": [],
   "source": [
    "class KNNClassifier():\n",
    "    def __init__(self, k=5):\n",
    "        self.k_neighbours = k\n",
    "\n",
    "    def fit(self, X, y):\n",
    "        n_samples = X.shape[0]\n",
    "\n",
    "        if self.k_neighbours > n_samples:\n",
    "            raise ValueError(\"number of sample points exceeds K\")\n",
    "\n",
    "        if X.shape[0] != y.shape[0]:\n",
    "            raise ValueError(\"number of features not equal to number of labels\")\n",
    "\n",
    "        # make list of possible classifications\n",
    "        self.classes = np.unique(y)\n",
    "\n",
    "        self.X_train = X\n",
    "        self.y_train = y\n",
    "\n",
    "    def predict(self, X, y):\n",
    "        distances = [self.euclidean_prediction(x) for x in X]\n",
    "\n",
    "    def euclidean_prediction(self, X_test):\n",
    "        \n",
    "\n",
    "    def euclidean_dist(x1, x2):\n",
    "        return np.sum((x1-x2)**2) # sqrt can be omitted for efficiency as the square root preserves linear ordering, which is all we are interested in\n",
    "\n",
    "    def accuracy_score(self):\n",
    "        "
   ]
  }
 ],
 "metadata": {
  "kernelspec": {
   "display_name": "scc-222",
   "language": "python",
   "name": "python3"
  },
  "language_info": {
   "codemirror_mode": {
    "name": "ipython",
    "version": 3
   },
   "file_extension": ".py",
   "mimetype": "text/x-python",
   "name": "python",
   "nbconvert_exporter": "python",
   "pygments_lexer": "ipython3",
   "version": "3.10.12"
  }
 },
 "nbformat": 4,
 "nbformat_minor": 2
}
